{
  "cells": [
    {
      "metadata": {
        "_uuid": "8f2839f25d086af736a60e9eeb907d3b93b6e0e5",
        "_cell_guid": "b1076dfc-b9ad-4769-8c92-a6c4dae69d19",
        "trusted": true
      },
      "cell_type": "code",
      "source": "import numpy as np\nimport pandas as pd\nimport os, cv2\nfrom tqdm import tqdm\nfrom sklearn.model_selection import StratifiedShuffleSplit\n\nfrom keras import optimizers\nfrom keras.models import Sequential, Model\nfrom keras.layers import Dense, Flatten\nfrom keras.layers import Dropout, MaxPooling2D\nfrom keras.layers import BatchNormalization\n\nfrom keras.callbacks import EarlyStopping, ModelCheckpoint\nfrom keras.callbacks import ReduceLROnPlateau\n\nfrom keras.preprocessing.image import ImageDataGenerator\nfrom sklearn.model_selection import train_test_split\nfrom keras.applications import *",
      "execution_count": 1,
      "outputs": [
        {
          "output_type": "stream",
          "text": "/opt/conda/lib/python3.6/site-packages/h5py/__init__.py:36: FutureWarning: Conversion of the second argument of issubdtype from `float` to `np.floating` is deprecated. In future, it will be treated as `np.float64 == np.dtype(float).type`.\n  from ._conv import register_converters as _register_converters\nUsing TensorFlow backend.\n",
          "name": "stderr"
        }
      ]
    },
    {
      "metadata": {
        "_cell_guid": "79c7e3d0-c299-4dcb-8224-4455121ee9b0",
        "_uuid": "d629ff2d2480ee46fbb7e2d37f6b5fab8052498a",
        "trusted": true,
        "collapsed": true
      },
      "cell_type": "code",
      "source": "x_train = []\nx_test = []\ny_train = []",
      "execution_count": 2,
      "outputs": []
    },
    {
      "metadata": {
        "trusted": true,
        "_uuid": "d09565dd5f0d9a1af87c5056dcf8d8f752154f84",
        "collapsed": true
      },
      "cell_type": "code",
      "source": "data_dir = '../input/'\ntrain_dir = os.path.join(data_dir, 'train')\ntest_dir = os.path.join(data_dir, 'test')\ndf_test = pd.read_csv(os.path.join(data_dir, 'sample_submission.csv'))",
      "execution_count": 3,
      "outputs": []
    },
    {
      "metadata": {
        "trusted": true,
        "_uuid": "44bcfdaac33c6851113e9bb0996a55b716c2b723",
        "collapsed": true
      },
      "cell_type": "code",
      "source": "label_map = {   \"Black-grass\"               :0,\n                \"Charlock\"                  :1,\n                \"Cleavers\"                  :2,\n                \"Common Chickweed\"          :3,\n                \"Common wheat\"              :4,\n                \"Fat Hen\"                   :5,\n                \"Loose Silky-bent\"          :6,\n                \"Maize\"                     :7,\n                \"Scentless Mayweed\"         :8,\n                \"Shepherds Purse\"           :9,\n                \"Small-flowered Cranesbill\" :10,\n                \"Sugar beet\"                :11}\n\ndim = 256",
      "execution_count": 4,
      "outputs": []
    },
    {
      "metadata": {
        "trusted": true,
        "_uuid": "e9bc410424a90aa50f2b3317bde499693240d9ef"
      },
      "cell_type": "code",
      "source": "dirs = os.listdir(train_dir)\nfor k in tqdm(range(len(dirs))):\n    files = os.listdir(os.path.join(train_dir,dirs[k]))\n    for f in range(len(files)):\n        img = cv2.imread(os.path.join(train_dir, dirs[k], files[f]))\n        targets = np.zeros(12)\n        targets[label_map[dirs[k]]] = 1 \n        x_train.append(cv2.resize(img, (dim, dim)))\n        y_train.append(targets)",
      "execution_count": 5,
      "outputs": [
        {
          "output_type": "stream",
          "text": "100%|██████████| 12/12 [00:49<00:00,  4.09s/it]\n",
          "name": "stderr"
        }
      ]
    },
    {
      "metadata": {
        "trusted": true,
        "_uuid": "5616dc3b266093bc8b489e51849350a5a55bf17f",
        "collapsed": true
      },
      "cell_type": "code",
      "source": "y_train = np.array(y_train, np.uint8)\nx_train = np.array(x_train, np.float32)",
      "execution_count": 6,
      "outputs": []
    },
    {
      "metadata": {
        "trusted": true,
        "_uuid": "ad5bd97c98d36652b2048f0f1beff8e1c169283c",
        "collapsed": true
      },
      "cell_type": "code",
      "source": "sss = StratifiedShuffleSplit(n_splits=1, test_size=0.16, random_state=42) # Want a balanced split for all the classes\nfor train_index, test_index in sss.split(x_train, y_train):\n    print(\"Using {} for training and {} for validation\".format(len(train_index), len(test_index)))\n    x_train, x_valid = x_train[train_index], x_train[test_index]\n    y_train, y_valid = y_train[train_index], y_train[test_index]",
      "execution_count": null,
      "outputs": []
    },
    {
      "metadata": {
        "trusted": true,
        "_uuid": "8f42a19fba0c89d763beaae3c6c147f83d6c4de1",
        "collapsed": true
      },
      "cell_type": "code",
      "source": "datagen = ImageDataGenerator(horizontal_flip=True,\n                             vertical_flip=True)\nweights = os.path.join('', 'weights.h5')",
      "execution_count": null,
      "outputs": []
    },
    {
      "metadata": {
        "trusted": true,
        "_uuid": "c704c727f971fd8b46dc8320bf4ecfb09551f5ae",
        "collapsed": true
      },
      "cell_type": "code",
      "source": "epochs = 5\nlearning_rate = 0.0001\nbatch_size = 32",
      "execution_count": null,
      "outputs": []
    },
    {
      "metadata": {
        "trusted": true,
        "_uuid": "f505ac0897e635b4ddaf18e3447f02ae55aa047d",
        "collapsed": true
      },
      "cell_type": "code",
      "source": "callbacks = [\n    EarlyStopping(monitor='val_loss', patience=5, verbose=1),\n    ModelCheckpoint(weights, monitor='val_loss', save_best_only=True, verbose=0),\n    ReduceLROnPlateau(monitor='val_loss', factor=0.1, patience=2, verbose=0, mode='auto', min_delta=0.0001, cooldown=0, min_lr=0)\n]",
      "execution_count": null,
      "outputs": []
    },
    {
      "metadata": {
        "trusted": true,
        "_uuid": "6ca5059b7f7acc856f9efef6215350727c913d92",
        "collapsed": true
      },
      "cell_type": "code",
      "source": "base_model = Xception(input_shape=(dim,dim,3), include_top=False, \n                      weights='imagenet', pooling='avg')\nx = base_model.output\nx = Dense(256, activation='relu')(x)\nx = Dropout(0.5)(x)\npredictions = Dense(12, activation='softmax')(x)\nmodel = Model(inputs=base_model.input, outputs=predictions)",
      "execution_count": null,
      "outputs": []
    },
    {
      "metadata": {
        "trusted": true,
        "_uuid": "eb77336ceefd215483e9bffe34a2fcc990c310ef",
        "collapsed": true
      },
      "cell_type": "code",
      "source": "model.compile(loss='categorical_crossentropy',\n              optimizer=optimizers.Adam(lr=learning_rate),\n              metrics=['accuracy'])",
      "execution_count": null,
      "outputs": []
    },
    {
      "metadata": {
        "trusted": true,
        "_uuid": "a6c306eb999c6c9fc594f5e22f3eafe8f66a1cd1",
        "collapsed": true
      },
      "cell_type": "code",
      "source": "model.fit_generator(datagen.flow(x_train, y_train, batch_size=batch_size),\n                    steps_per_epoch=len(x_train)/batch_size, \n                    validation_data=datagen.flow(x_valid, y_valid, batch_size=batch_size), \n                    validation_steps=len(x_valid)/batch_size,\n                    callbacks=callbacks,\n                    epochs=epochs, \n                    verbose=1)",
      "execution_count": null,
      "outputs": []
    },
    {
      "metadata": {
        "_uuid": "5a8dab8411db943a5f7ca23107d1bcc0c7a4d778"
      },
      "cell_type": "markdown",
      "source": "### More aggresive fine-tuning"
    },
    {
      "metadata": {
        "trusted": true,
        "collapsed": true,
        "_uuid": "bcd2350fe5bcf107d6f76b3241a603f401e90930"
      },
      "cell_type": "code",
      "source": "base_model = Xception(input_shape=(dim,dim,3), include_top=False, \n                      weights='imagenet', pooling='avg')\nx = base_model.output\nx = Dense(256, activation='relu')(x)\nx = Dropout(0.5)(x)\npredictions = Dense(12, activation='softmax')(x)\nmodel = Model(inputs=base_model.input, outputs=predictions)\n\nfor layer in base_model.layers:\n    layer.trainable = False",
      "execution_count": null,
      "outputs": []
    },
    {
      "metadata": {
        "trusted": true,
        "_uuid": "8bed7fc24f3f6e3dd88bb7b335f77e78428e280c",
        "collapsed": true
      },
      "cell_type": "code",
      "source": "model.compile(loss='categorical_crossentropy',\n              optimizer=optimizers.Adam(lr=learning_rate),\n              metrics=['accuracy'])",
      "execution_count": null,
      "outputs": []
    },
    {
      "metadata": {
        "trusted": true,
        "_uuid": "61690c7d95543c8fa873522374af5470e87a9c5a",
        "collapsed": true
      },
      "cell_type": "code",
      "source": "model.fit_generator(datagen.flow(x_train, y_train, batch_size=batch_size),\n                    steps_per_epoch=len(x_train)/batch_size, \n                    validation_data=datagen.flow(x_valid, y_valid, batch_size=batch_size), \n                    validation_steps=len(x_valid)/batch_size,\n                    callbacks=callbacks,\n                    epochs=epochs, \n                    verbose=1)",
      "execution_count": null,
      "outputs": []
    },
    {
      "metadata": {
        "trusted": true,
        "collapsed": true,
        "_uuid": "7228bba0cffc23e77cfb845b8810428ef777d20f"
      },
      "cell_type": "code",
      "source": "",
      "execution_count": null,
      "outputs": []
    }
  ],
  "metadata": {
    "kernelspec": {
      "display_name": "Python 3",
      "language": "python",
      "name": "python3"
    },
    "language_info": {
      "name": "python",
      "version": "3.6.4",
      "mimetype": "text/x-python",
      "codemirror_mode": {
        "name": "ipython",
        "version": 3
      },
      "pygments_lexer": "ipython3",
      "nbconvert_exporter": "python",
      "file_extension": ".py"
    }
  },
  "nbformat": 4,
  "nbformat_minor": 1
}